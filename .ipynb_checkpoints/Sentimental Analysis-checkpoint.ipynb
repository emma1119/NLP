{
 "cells": [
  {
   "cell_type": "markdown",
   "id": "98454680",
   "metadata": {},
   "source": [
    "# Sentimental Analysis\n",
    "\n",
    "There are several popular Python packages and techniques that can be used for sentiment analysis of online banking product reviews. Some of the most commonly used packages and techniques are:\n",
    "\n",
    "1. Natural Language Toolkit (nltk): \n",
    "The nltk library provides a suite of tools for natural language processing,\n",
    "including sentiment analysis. The library includes the VADER (Valence Aware Dictionary and sEntiment Reasoner)\n",
    "pre-trained sentiment analysis tool, which is specifically designed for sentiment analysis of short and informal texts, such as social media posts and online reviews. VADER (Valence Aware Dictionary and sEntiment Reasoner) is a pre-trained sentiment analysis tool that is specifically designed for sentiment analysis of short and informal texts, such as social media posts and online reviews. VADER is often used for sentiment analysis of these types of texts due to its accuracy and quick implementation.\n",
    "\n",
    "2. TextBlob: \n",
    "TextBlob is a Python library for processing textual data. It provides a simple and easy-to-use interface for sentiment analysis, and it uses a pre-trained sentiment analysis model based on the nltk library.TextBlob is a popular and easy-to-use library for sentiment analysis and other NLP tasks. It provides a simple and intuitive interface for sentiment analysis, making it a good choice for simple and quick NLP tasks.\n",
    "\n",
    "3. spaCy: \n",
    "spaCy is a popular open-source library for advanced natural language processing in Python. It includes a pre-trained sentiment analysis model that can be used to classify the sentiment of a text as positive, negative, or neutral.spaCy is a popular open-source library for advanced NLP, including sentiment analysis. It includes a pre-trained sentiment analysis model that can be used to classify the sentiment of a text as positive, negative, or neutral. spaCy is often used for more advanced NLP tasks, such as named entity recognition and text classification, due to its performance and versatility.\n",
    "\n",
    "4. scikit-learn: \n",
    "scikit-learn is a machine learning library for Python that provides a suite of tools for natural language processing, including sentiment analysis. The library can be used to train machine learning models for sentiment analysis, and it includes popular algorithms such as support vector machines (SVM) and random forests.\n",
    "\n",
    "5. Deep learning: \n",
    "Deep learning techniques, such as convolutional neural networks (CNNs) and recurrent neural networks (RNNs), can be used for sentiment analysis of online banking product reviews. These techniques allow for the automatic extraction of features from the text and can provide more accurate sentiment analysis results than traditional machine learning techniques.\n",
    "\n"
   ]
  },
  {
   "cell_type": "code",
   "execution_count": null,
   "id": "4da8d8c0",
   "metadata": {},
   "outputs": [],
   "source": [
    "import pandas as pd\n",
    "import numpy as np\n",
    "import nltk\n",
    "from nltk.corpus import stopwords\n",
    "from nltk.tokenize import word_tokenize\n",
    "from nltk.sentiment.vader import SentimentIntensityAnalyzer\n",
    "\n",
    "# Load the customer feedback data\n",
    "data = pd.read_csv(\"customer_feedback.csv\")\n",
    "\n",
    "# Preprocess the data\n",
    "stop_words = set(stopwords.words(\"english\"))\n",
    "\n",
    "def preprocess_text(text):\n",
    "    # Convert to lowercase\n",
    "    text = text.lower()\n",
    "    \n",
    "    # Tokenize the words\n",
    "    words = word_tokenize(text)\n",
    "    \n",
    "    # Remove stop words\n",
    "    words = [word for word in words if word not in stop_words]\n",
    "    \n",
    "    # Join the words back together\n",
    "    processed_text = \" \".join(words)\n",
    "    \n",
    "    return processed_text\n",
    "\n",
    "data[\"processed_text\"] = data[\"text\"].apply(preprocess_text)\n",
    "\n",
    "# Sentiment analysis using the VADER library\n",
    "sia = SentimentIntensityAnalyzer()\n",
    "\n",
    "def get_sentiment(text):\n",
    "    sentiment = sia.polarity_scores(text)[\"compound\"]\n",
    "    \n",
    "    if sentiment > 0:\n",
    "        return \"positive\"\n",
    "    elif sentiment < 0:\n",
    "        return \"negative\"\n",
    "    else:\n",
    "        return \"neutral\"\n",
    "\n",
    "data[\"sentiment\"] = data[\"processed_text\"].apply(get_sentiment)\n",
    "\n",
    "# Print the results\n",
    "print(data.head())\n"
   ]
  }
 ],
 "metadata": {
  "kernelspec": {
   "display_name": "Python 3 (ipykernel)",
   "language": "python",
   "name": "python3"
  },
  "language_info": {
   "codemirror_mode": {
    "name": "ipython",
    "version": 3
   },
   "file_extension": ".py",
   "mimetype": "text/x-python",
   "name": "python",
   "nbconvert_exporter": "python",
   "pygments_lexer": "ipython3",
   "version": "3.9.7"
  }
 },
 "nbformat": 4,
 "nbformat_minor": 5
}
