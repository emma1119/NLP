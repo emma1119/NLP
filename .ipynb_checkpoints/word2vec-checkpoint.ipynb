{
 "cells": [
  {
   "cell_type": "markdown",
   "id": "ad78ffd8",
   "metadata": {},
   "source": [
    "Word2Vec is a specific algorithm for learning vector representations of words, which are known as word embeddings. The algorithm uses a shallow neural network to train on large amounts of text data and produce a vector for each word in a vocabulary, where the vectors are optimized to capture the relationships between words in the data.\n",
    "\n",
    "Word embeddings, on the other hand, refer more broadly to the idea of mapping words or phrases to vectors of numbers. There are other algorithms besides Word2Vec that can be used to learn word embeddings, and word embeddings can also be pre-trained and then fine-tuned on a specific task."
   ]
  },
  {
   "cell_type": "code",
   "execution_count": 5,
   "id": "cf4dc1fd",
   "metadata": {},
   "outputs": [
    {
     "ename": "TypeError",
     "evalue": "__init__() got an unexpected keyword argument 'size'",
     "output_type": "error",
     "traceback": [
      "\u001b[1;31m---------------------------------------------------------------------------\u001b[0m",
      "\u001b[1;31mTypeError\u001b[0m                                 Traceback (most recent call last)",
      "\u001b[1;32m~\\AppData\\Local\\Temp/ipykernel_98980/3390613229.py\u001b[0m in \u001b[0;36m<module>\u001b[1;34m\u001b[0m\n\u001b[0;32m     19\u001b[0m \u001b[1;33m\u001b[0m\u001b[0m\n\u001b[0;32m     20\u001b[0m \u001b[1;31m# Train the Word2Vec model on the processed text data\u001b[0m\u001b[1;33m\u001b[0m\u001b[1;33m\u001b[0m\u001b[0m\n\u001b[1;32m---> 21\u001b[1;33m \u001b[0mmodel\u001b[0m \u001b[1;33m=\u001b[0m \u001b[0mWord2Vec\u001b[0m\u001b[1;33m(\u001b[0m\u001b[0mprocessed_text\u001b[0m\u001b[1;33m,\u001b[0m \u001b[0msize\u001b[0m\u001b[1;33m=\u001b[0m\u001b[1;36m100\u001b[0m\u001b[1;33m,\u001b[0m \u001b[0mwindow\u001b[0m\u001b[1;33m=\u001b[0m\u001b[1;36m5\u001b[0m\u001b[1;33m,\u001b[0m \u001b[0mmin_count\u001b[0m\u001b[1;33m=\u001b[0m\u001b[1;36m1\u001b[0m\u001b[1;33m,\u001b[0m \u001b[0mworkers\u001b[0m\u001b[1;33m=\u001b[0m\u001b[1;36m4\u001b[0m\u001b[1;33m)\u001b[0m\u001b[1;33m\u001b[0m\u001b[1;33m\u001b[0m\u001b[0m\n\u001b[0m\u001b[0;32m     22\u001b[0m \u001b[1;33m\u001b[0m\u001b[0m\n\u001b[0;32m     23\u001b[0m \u001b[1;31m# Get the word vectors for each word in the vocabulary\u001b[0m\u001b[1;33m\u001b[0m\u001b[1;33m\u001b[0m\u001b[0m\n",
      "\u001b[1;31mTypeError\u001b[0m: __init__() got an unexpected keyword argument 'size'"
     ]
    }
   ],
   "source": [
    "## use case 1： Topic modeling and text summarization\n",
    "\n",
    "# gensim is a pretrained word2vec model\n",
    "\n",
    "import gensim\n",
    "from gensim.models import Word2Vec\n",
    "from gensim.models.phrases import Phrases, Phraser\n",
    "\n",
    "# Load in the text data that you want to use for topic recognition\n",
    "text_data = [\n",
    "    \"machine learning is a field of computer science\",\n",
    "    \"deep learning is a subfield of machine learning\",\n",
    "    \"computer vision is a field related to machine learning\",\n",
    "    \"natural language processing is another field related to machine learning\"\n",
    "]\n",
    "\n",
    "# Preprocess the text data to remove punctuation, lowercase all words, etc.\n",
    "processed_text = [text.lower().split() for text in text_data]\n",
    "\n",
    "# Train the Word2Vec model on the processed text data\n",
    "model = Word2Vec(processed_text, size=100, window=5, min_count=1, workers=4)\n",
    "\n",
    "# Get the word vectors for each word in the vocabulary\n",
    "word_vectors = model.wv\n",
    "\n",
    "# Use the word vectors to perform topic recognition\n",
    "word_topics = {}\n",
    "for word in word_vectors.vocab:\n",
    "    most_similar_words = word_vectors.most_similar(word)\n",
    "    topics = [word for word, similarity in most_similar_words]\n",
    "    word_topics[word] = topics\n",
    "\n",
    "# Print the topics for each word\n",
    "for word, topics in word_topics.items():\n",
    "    print(f\"{word}: {topics}\")\n"
   ]
  },
  {
   "cell_type": "code",
   "execution_count": 4,
   "id": "e805ea4b",
   "metadata": {},
   "outputs": [
    {
     "name": "stdout",
     "output_type": "stream",
     "text": [
      "Collecting gensim==3.8.1"
     ]
    },
    {
     "name": "stderr",
     "output_type": "stream",
     "text": [
      "ERROR: Could not install packages due to an OSError: [WinError 5] 拒绝访问。: 'C:\\\\Users\\\\PC\\\\anaconda3\\\\Lib\\\\site-packages\\\\~-nsim\\\\corpora\\\\_mmreader.cp39-win_amd64.pyd'\n",
      "Consider using the `--user` option or check the permissions.\n",
      "\n"
     ]
    },
    {
     "name": "stdout",
     "output_type": "stream",
     "text": [
      "\n",
      "  Downloading gensim-3.8.1.tar.gz (23.4 MB)\n",
      "     ---------------------------------------- 23.4/23.4 MB 4.6 MB/s eta 0:00:00\n",
      "  Preparing metadata (setup.py): started\n",
      "  Preparing metadata (setup.py): finished with status 'done'\n",
      "Requirement already satisfied: numpy>=1.11.3 in c:\\users\\pc\\anaconda3\\lib\\site-packages (from gensim==3.8.1) (1.20.3)\n",
      "Requirement already satisfied: scipy>=0.18.1 in c:\\users\\pc\\anaconda3\\lib\\site-packages (from gensim==3.8.1) (1.7.1)\n",
      "Requirement already satisfied: six>=1.5.0 in c:\\users\\pc\\anaconda3\\lib\\site-packages (from gensim==3.8.1) (1.16.0)\n",
      "Requirement already satisfied: smart_open>=1.8.1 in c:\\users\\pc\\anaconda3\\lib\\site-packages (from gensim==3.8.1) (5.2.1)\n",
      "Building wheels for collected packages: gensim\n",
      "  Building wheel for gensim (setup.py): started\n",
      "  Building wheel for gensim (setup.py): finished with status 'done'\n",
      "  Created wheel for gensim: filename=gensim-3.8.1-cp39-cp39-win_amd64.whl size=23720051 sha256=b3f51aea99beefd071f4a42da18f265924528238055d4114149df13f4dbef132\n",
      "  Stored in directory: c:\\users\\pc\\appdata\\local\\pip\\cache\\wheels\\fe\\77\\24\\b3ffc86119703277a8aeb0e6914e97e216b1bd45287e41d6ba\n",
      "Successfully built gensim\n",
      "Installing collected packages: gensim\n",
      "  Attempting uninstall: gensim\n",
      "    Found existing installation: gensim 4.3.0\n",
      "    Uninstalling gensim-4.3.0:\n",
      "      Successfully uninstalled gensim-4.3.0\n"
     ]
    }
   ],
   "source": [
    "!pip install gensim==3.8.1"
   ]
  },
  {
   "cell_type": "code",
   "execution_count": null,
   "id": "5f328097",
   "metadata": {},
   "outputs": [],
   "source": []
  }
 ],
 "metadata": {
  "kernelspec": {
   "display_name": "Python 3 (ipykernel)",
   "language": "python",
   "name": "python3"
  },
  "language_info": {
   "codemirror_mode": {
    "name": "ipython",
    "version": 3
   },
   "file_extension": ".py",
   "mimetype": "text/x-python",
   "name": "python",
   "nbconvert_exporter": "python",
   "pygments_lexer": "ipython3",
   "version": "3.9.7"
  }
 },
 "nbformat": 4,
 "nbformat_minor": 5
}
